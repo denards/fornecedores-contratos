{
 "cells": [
  {
   "cell_type": "markdown",
   "id": "80e626b3-7106-4357-8c11-9c64460c145f",
   "metadata": {},
   "source": [
    "### Fontes: \n",
    "- https://portaldatransparencia.gov.br/download-de-dados/licitacoes\n",
    "- https://compras.dados.gov.br/licitacoes/v1/orgaos.json\n",
    "- https://compras.dados.gov.br/licitacoes/v1/modalidades_licitacao.json"
   ]
  },
  {
   "cell_type": "markdown",
   "id": "c335733f-0e7b-4ee6-b31b-b4d6f15b16e9",
   "metadata": {},
   "source": [
    "## 1) Bibliotecas"
   ]
  },
  {
   "cell_type": "code",
   "execution_count": null,
   "id": "d9eeb9f6-bdd2-4e44-a00c-0c18d1baafc7",
   "metadata": {},
   "outputs": [],
   "source": [
    "import pandas as pd\n",
    "import requests\n",
    "from sqlalchemy import create_engine\n",
    "import psycopg2\n",
    "from urllib.parse import urlparse\n",
    "import os\n",
    "import numpy as np"
   ]
  },
  {
   "cell_type": "code",
   "execution_count": null,
   "id": "85a215cf-f223-4677-bb5a-9836d5de2578",
   "metadata": {},
   "outputs": [],
   "source": [
    "# Configurações do PostgreSQL\n",
    "DB_HOST = \"localhost\"  \n",
    "DB_PORT = \"5432\"       \n",
    "DB_NAME = \"licitacoes_contratos\"  \n",
    "DB_USER = \"postgres\"\n",
    "DB_PASS = \"1234\"\n",
    "\n",
    "# Outras configuracoes\n",
    "diretorio = \"Dados\""
   ]
  },
  {
   "cell_type": "markdown",
   "id": "7b49764e-9de4-4f4d-9795-bd597b1252b4",
   "metadata": {},
   "source": [
    "## 2) Funções"
   ]
  },
  {
   "cell_type": "code",
   "execution_count": null,
   "id": "47f803e9-4f83-4a8a-b68c-282d9c960ecf",
   "metadata": {},
   "outputs": [],
   "source": [
    "def verificar_tamanho_colunas(df):\n",
    "    \"\"\"\n",
    "    Verifica o tamanho máximo dos valores em cada coluna de um DataFrame.\n",
    "\n",
    "    Parâmetros:\n",
    "    - df (pd.DataFrame): DataFrame a ser analisado.\n",
    "\n",
    "    Retorna:\n",
    "    - pd.DataFrame: DataFrame com o nome da coluna e o tamanho máximo dos valores.\n",
    "    \"\"\"\n",
    "    tamanhos = {col: df[col].astype(str).map(len).max() for col in df.columns}\n",
    "    df_tamanhos = pd.DataFrame(list(tamanhos.items()), columns=['Coluna', 'Tamanho Máximo'])\n",
    "    \n",
    "    return df_tamanhos"
   ]
  },
  {
   "cell_type": "code",
   "execution_count": null,
   "id": "9fb02aa6-2ec5-4425-969d-652ea62f9733",
   "metadata": {},
   "outputs": [],
   "source": [
    "def ler_csv(arquivo, encoding=\"ISO-8859-1\"):\n",
    "    \"\"\"\n",
    "    Lê um arquivo CSV de um diretório específico e retorna um DataFrame.\n",
    "    \n",
    "    Parâmetros:\n",
    "        nome_arquivo (str): Nome do arquivo CSV (ex: \"202401_Licitação.csv\").\n",
    "        diretorio (str): Diretório onde o arquivo está localizado (padrão: \"Dados\").\n",
    "    \n",
    "    Retorna:\n",
    "        pd.DataFrame: DataFrame contendo os dados do CSV.\n",
    "    \"\"\"\n",
    "     \n",
    "    # Ler o CSV com delimitador \";\" e codificação ISO-8859-1\n",
    "    df = pd.read_csv(arquivo, delimiter=\";\", encoding=\"ISO-8859-1\", low_memory=False)\n",
    "    return df\n"
   ]
  },
  {
   "cell_type": "code",
   "execution_count": null,
   "id": "204dbc5d-36ac-4fab-a78c-883a7a547424",
   "metadata": {},
   "outputs": [],
   "source": [
    "def ler_arquivo_csv(arquivo, encoding=\"ISO-8859-1\"):\n",
    "\n",
    "    df_licitacao = ler_csv(arquivo, encoding)\n",
    "    \n",
    "    # Extraindo ano e mês do nome do arquivo\n",
    "    nome_arquivo = os.path.basename(arquivo)\n",
    "    ano = nome_arquivo[:4]\n",
    "    mes = nome_arquivo[4:6]\n",
    "    \n",
    "    # Adicionando colunas de ano e mês\n",
    "    df_licitacao['ano'] = ano\n",
    "    df_licitacao['mes'] = mes\n",
    "    \n",
    "    return df_licitacao\n"
   ]
  },
  {
   "cell_type": "code",
   "execution_count": null,
   "id": "950255c0-55bc-47bd-8b15-1c74be8ea7db",
   "metadata": {},
   "outputs": [],
   "source": [
    "# Função para processar o diretório e carregar os arquivos CSV\n",
    "def processar_diretorio(diretorio, chave, encoding=\"ISO-8859-1\"):\n",
    "    \"\"\"\n",
    "    Processa um diretório e concatena arquivos CSV que terminam com '_chave.csv'.\n",
    "\n",
    "    Parâmetros:\n",
    "    - diretorio (str): Caminho do diretório onde estão os arquivos CSV.\n",
    "    - chave (str): Identificador para selecionar arquivos que terminam com '_chave.csv'.\n",
    "    - encoding (str, opcional): Encoding usado para ler os arquivos (padrão: 'ISO-8859-1').\n",
    "\n",
    "    Retorna:\n",
    "    - pd.DataFrame: DataFrame contendo a concatenação de todos os arquivos encontrados.\n",
    "    \"\"\"\n",
    "    # Listar arquivos que terminam com \"_chave.csv\"\n",
    "    arquivos = [os.path.join(diretorio, f) for f in os.listdir(diretorio) if f.endswith(f\"_{chave}.csv\")]\n",
    "\n",
    "    if not arquivos:\n",
    "        print(f\"⚠️ Nenhum arquivo encontrado em '{diretorio}' com a chave '{chave}'.\")\n",
    "        return pd.DataFrame()  # Retorna um DataFrame vazio se não houver arquivos\n",
    "\n",
    "    # Passar corretamente os arquivos para a função `ler_arquivo_csv`\n",
    "    dataframes = [ler_arquivo_csv(arquivo, encoding) for arquivo in arquivos]\n",
    "\n",
    "    # Remover arquivos que falharam ao carregar (None)\n",
    "    dataframes = [df for df in dataframes if df is not None]\n",
    "\n",
    "    if not dataframes:\n",
    "        print(\"❌ Nenhum arquivo válido foi carregado.\")\n",
    "        return pd.DataFrame()\n",
    "\n",
    "    df_final = pd.concat(dataframes, ignore_index=True)\n",
    "\n",
    "    print(f\"✅ {len(dataframes)} arquivos processados e {df_final.shape[0]} registros carregados.\")\n",
    "    return df_final\n"
   ]
  },
  {
   "cell_type": "code",
   "execution_count": null,
   "id": "4da3463a-e510-4816-be78-f89a9890ada1",
   "metadata": {},
   "outputs": [],
   "source": [
    "def LerJson(aURL, aitem):\n",
    "    \n",
    "    try:\n",
    "        \n",
    "        erro = False\n",
    "        df_link = pd.DataFrame()\n",
    "        df_ret= pd.DataFrame()\n",
    "        response = requests.get(aURL, timeout=5)\n",
    "    \n",
    "        if response.status_code == 200:\n",
    "\n",
    "            dictr = response.json()\n",
    "\n",
    "            # Recupera o nome da próxima pagina\n",
    "            recs = dictr['_links']\n",
    "            df_link = pd.json_normalize(recs)\n",
    "\n",
    "            # Recupera os contratos\n",
    "            recs = dictr['_embedded']\n",
    "            df_ret = pd.json_normalize(recs, record_path=[aitem])\n",
    "            \n",
    "        else:\n",
    "             erro  = True\n",
    "\n",
    "        response.close()\n",
    "        \n",
    "    except Exception as e:\n",
    "    # do whatever you want\n",
    "        erro  = True\n",
    "        \n",
    "    return [df_link, df_ret, erro]\n"
   ]
  },
  {
   "cell_type": "code",
   "execution_count": null,
   "id": "d56546fd-1e75-4dd7-8a4b-b5bec60cd263",
   "metadata": {},
   "outputs": [],
   "source": [
    "def obter_dados_json(url, chave):\n",
    "\n",
    "    parsed_url = urlparse(url)\n",
    "    url_base = f\"{parsed_url.scheme}://{parsed_url.netloc}\"\n",
    "\n",
    "    df_final = pd.DataFrame()\n",
    "    df_dados = pd.DataFrame()\n",
    "    \n",
    "    ret = LerJson(url, chave)\n",
    "    df_pagina = ret[0]\n",
    "    df_dados = pd.concat([df_dados, ret[1]])\n",
    "\n",
    "    contador = 0\n",
    "    maximo = 100\n",
    "    while (contador < maximo):\n",
    "        \n",
    "        if df_pagina.shape[0] == 1:\n",
    "            if df_pagina.columns.isin(['next.href']).any():\n",
    "                print(url_base + df_pagina.loc[0,'next.href'])\n",
    "                ret = LerJson(url_base + df_pagina.loc[0,'next.href'], chave) \n",
    "                if ret[2] == False:\n",
    "                    df_pagina = ret[0]\n",
    "                    df_dados = pd.concat([df_dados, ret[1]])\n",
    "            else:\n",
    "                break\n",
    "        else:\n",
    "            break\n",
    "        contador = contador + 1\n",
    "        \n",
    "    return df_dados\n"
   ]
  },
  {
   "cell_type": "code",
   "execution_count": null,
   "id": "819229df-d4fb-4c79-b002-affc3d4f94da",
   "metadata": {},
   "outputs": [],
   "source": [
    "def inserir_dados_postgresql(df, tabela, host, porta, banco, usuario, senha, excluir_antes=False, batch_size=10000):\n",
    "    \"\"\"\n",
    "    Insere registros de um DataFrame no PostgreSQL em lotes de 1000 registros.\n",
    "\n",
    "    Parâmetros:\n",
    "    - df (pd.DataFrame): DataFrame com os dados a serem inseridos.\n",
    "    - tabela (str): Nome da tabela de destino no PostgreSQL.\n",
    "    - host (str): Endereço do servidor PostgreSQL.\n",
    "    - porta (str): Porta do PostgreSQL.\n",
    "    - banco (str): Nome do banco de dados.\n",
    "    - usuario (str): Usuário do banco de dados.\n",
    "    - senha (str): Senha do banco de dados.\n",
    "    - excluir_antes (bool, opcional): Se True, exclui todos os registros antes da inserção (default: False).\n",
    "    - batch_size (int, opcional): Número de registros inseridos por vez (default: 1000).\n",
    "\n",
    "    Retorna:\n",
    "    - str: Mensagem indicando o sucesso ou erro da operação.\n",
    "    \"\"\"\n",
    "    try:\n",
    "        # Criando a string de conexão\n",
    "        conn_string = f'postgresql+psycopg2://{usuario}:{senha}@{host}:{porta}/{banco}?client_encoding=utf8'\n",
    "        engine = create_engine(conn_string)\n",
    "\n",
    "        # Conectar ao banco para exclusão, se necessário\n",
    "        if excluir_antes:\n",
    "            with psycopg2.connect(dbname=banco, user=usuario, password=senha, host=host, port=porta) as conn:\n",
    "                with conn.cursor() as cursor:\n",
    "                    cursor.execute(f\"DELETE FROM {tabela};\")\n",
    "                    conn.commit()\n",
    "                    print(f\"🗑️ Todos os registros da tabela '{tabela}' foram excluídos.\")\n",
    "\n",
    "        # Substituir valores NaT e NaN por None (NULL no PostgreSQL)\n",
    "        df = df.where(pd.notna(df), None)\n",
    "\n",
    "        # Garantir que apenas colunas textuais sejam convertidas para string corretamente\n",
    "        for col in df.select_dtypes(include=[\"object\"]).columns:\n",
    "            df[col] = df[col].apply(lambda x: str(x) if x is not None else None)\n",
    "\n",
    "        # Contador para acompanhar a inserção por lotes\n",
    "        total_registros = len(df)\n",
    "        print(f\"📊 Total de registros a serem inseridos: {total_registros}\")\n",
    "\n",
    "        for i in range(0, total_registros, batch_size):\n",
    "            df_lote = df.iloc[i:i+batch_size]  # Pegando um lote de 1000 registros\n",
    "            df_lote.to_sql(tabela, engine, if_exists='append', index=False, method='multi')\n",
    "            print(f\"✅ Inseridos {min(i+batch_size, total_registros)}/{total_registros} registros...\")\n",
    "\n",
    "        return \"✅ Registros inseridos com sucesso!\"\n",
    "\n",
    "    except psycopg2.Error as e:\n",
    "        return f\"❌ Erro ao conectar ou executar query no PostgreSQL: {e}\"\n",
    "    \n",
    "    except Exception as e:\n",
    "        return f\"❌ Erro ao inserir dados: {e}\"\n"
   ]
  },
  {
   "cell_type": "code",
   "execution_count": null,
   "id": "d3d9431a-a4d2-4009-82ae-02924a968a23",
   "metadata": {},
   "outputs": [],
   "source": [
    "def ler_tabela_postgresql(tabela, host, porta, banco, usuario, senha):\n",
    "    \"\"\"\n",
    "    Lê uma tabela do PostgreSQL e retorna como um DataFrame Pandas.\n",
    "\n",
    "    Parâmetros:\n",
    "    - tabela (str): Nome da tabela a ser lida.\n",
    "    - host (str): Endereço do servidor PostgreSQL (exemplo: \"localhost\").\n",
    "    - porta (str): Porta do PostgreSQL (exemplo: \"5432\").\n",
    "    - banco (str): Nome do banco de dados.\n",
    "    - usuario (str): Usuário do banco de dados.\n",
    "    - senha (str): Senha do banco de dados.\n",
    "\n",
    "    Retorna:\n",
    "    - pd.DataFrame: DataFrame Pandas contendo os dados da tabela.\n",
    "    \"\"\"\n",
    "    try:\n",
    "        # Criando a string de conexão com PostgreSQL\n",
    "        conn_string = f'postgresql+psycopg2://{usuario}:{senha}@{host}:{porta}/{banco}'\n",
    "        engine = create_engine(conn_string)\n",
    "\n",
    "        # Lendo a tabela para um DataFrame\n",
    "        query = f\"SELECT * FROM {tabela}\"\n",
    "        df = pd.read_sql(query, engine)\n",
    "\n",
    "        print(f\"✅ Tabela '{tabela}' carregada com sucesso! {df.shape[0]} registros encontrados.\")\n",
    "        return df\n",
    "\n",
    "    except Exception as e:\n",
    "        print(f\"❌ Erro ao ler a tabela '{tabela}': {e}\")\n",
    "        return None\n"
   ]
  },
  {
   "cell_type": "markdown",
   "id": "32ddb8c1-d96b-4254-89ac-4db3a26d1587",
   "metadata": {},
   "source": [
    "## 3) ETL"
   ]
  },
  {
   "cell_type": "markdown",
   "id": "f0a93902-a72f-41cf-a1b7-624d5d7edbaa",
   "metadata": {},
   "source": [
    "### 3.1) ETL ÓRGÃO"
   ]
  },
  {
   "cell_type": "code",
   "execution_count": null,
   "id": "11e89ecd-34ff-441c-9f1c-658ef2946d43",
   "metadata": {},
   "outputs": [],
   "source": [
    "# Chamando a função\n",
    "# url = \"https://compras.dados.gov.br/licitacoes/v1/orgaos.json\"\n",
    "# chave = \"Orgaos\"\n",
    "\n",
    "arquivo = \"orgaos.parquet\"\n",
    "\n",
    "# df_orgaos = obter_dados_json(url, chave)\n",
    "\n",
    "# df_orgaos.to_parquet(f\"{diretorio}/{arquivo}\", engine=\"pyarrow\", index=False)\n",
    "\n",
    "# Execucoes posteriores, utiliza o arquivo salvo\n",
    "df_orgaos = pd.read_parquet(f\"{diretorio}/{arquivo}\", engine=\"fastparquet\")\n",
    "\n",
    "# Exibindo as primeiras linhas\n",
    "df_orgaos.head(100)"
   ]
  },
  {
   "cell_type": "code",
   "execution_count": null,
   "id": "14bffa1e-6eff-4f5f-9df5-b7faeb291f64",
   "metadata": {},
   "outputs": [],
   "source": [
    "df_orgaos.shape"
   ]
  },
  {
   "cell_type": "code",
   "execution_count": null,
   "id": "e30a45e4-f26c-44a2-971f-306a322025b0",
   "metadata": {},
   "outputs": [],
   "source": [
    "df_orgaos_tipo_esfera = df_orgaos.drop_duplicates(subset=['codigo_tipo_esfera'])[['codigo_tipo_esfera']].reset_index(drop=True)\n",
    "df_orgaos_tipo_esfera.head(100)"
   ]
  },
  {
   "cell_type": "code",
   "execution_count": null,
   "id": "56ebdbd8-604e-41a8-a8e8-dc088b244cf6",
   "metadata": {},
   "outputs": [],
   "source": [
    "df_orgaos_tipo_esfera = df_orgaos.drop_duplicates(subset=['ativo'])[['ativo']].reset_index(drop=True)\n",
    "df_orgaos_tipo_esfera.head(100)"
   ]
  },
  {
   "cell_type": "code",
   "execution_count": null,
   "id": "9ad17de7-fd88-4ded-9dd9-eb4e355a8fbe",
   "metadata": {},
   "outputs": [],
   "source": [
    "# Selecionar colunas específicas\n",
    "df_orgaos_carga = df_orgaos[['codigo', 'nome', 'codigo_tipo_adm', 'codigo_tipo_esfera', 'codigo_tipo_poder', 'ativo']].copy()\n",
    "\n",
    "df_orgaos_carga[\"ativo\"] = df_orgaos_carga[\"ativo\"].astype(int)\n",
    "\n",
    "# Converter coluna \"ativo\" corretamente para boolean (True/False) antes da inserção\n",
    "if \"ativo\" in df_orgaos_carga.columns:\n",
    "    df_orgaos_carga[\"ativo\"] = df_orgaos_carga[\"ativo\"].apply(lambda x: True if x == 1 else False if x == 0 else None)\n",
    "\n",
    "# Renomear colunas\n",
    "df_orgaos_carga = df_orgaos_carga.rename(columns={\n",
    "    \"codigo_tipo_adm\": \"tipo_adm\",\n",
    "    \"codigo_tipo_esfera\": \"tipo_esfera\",\n",
    "    \"codigo_tipo_poder\": \"tipo_poder\"\n",
    "})\n",
    "\n",
    "# Exibir as primeiras linhas\n",
    "df_orgaos_carga.head()\n"
   ]
  },
  {
   "cell_type": "code",
   "execution_count": null,
   "id": "b67a3255-3597-4572-b1cf-a0b2506d2c2b",
   "metadata": {},
   "outputs": [],
   "source": [
    "df_tamanhos = verificar_tamanho_colunas(df_orgaos_carga)\n",
    "\n",
    "print(df_tamanhos)"
   ]
  },
  {
   "cell_type": "code",
   "execution_count": null,
   "id": "24185f71-56b0-4e22-a1c4-be75f82ae479",
   "metadata": {},
   "outputs": [],
   "source": [
    "# Insere dados de modalidade\n",
    "# Chamando a função para inserir os dados\n",
    "resultado = inserir_dados_postgresql(df_orgaos_carga, \"orgao\", DB_HOST, DB_PORT, DB_NAME, DB_USER, DB_PASS, excluir_antes=True)\n",
    "\n",
    "# Exibindo o resultado\n",
    "print(resultado)"
   ]
  },
  {
   "cell_type": "markdown",
   "id": "de70624a-6f95-4cd1-b721-427763a99ead",
   "metadata": {},
   "source": [
    "### 3.2) ETL Modalidade"
   ]
  },
  {
   "cell_type": "code",
   "execution_count": null,
   "id": "6243bf56-49f4-4aac-84d5-2e381e2748d4",
   "metadata": {},
   "outputs": [],
   "source": [
    "# Chamando a função\n",
    "# url = \"https://compras.dados.gov.br/licitacoes/v1/modalidades_licitacao.json\"\n",
    "# chave = \"ModalidadesLicitacao\"\n",
    "\n",
    "arquivo = \"modalidade.parquet\"\n",
    "\n",
    "# df_modalidades = obter_dados_json(url, chave)\n",
    "\n",
    "# df_modalidades.to_parquet(f\"{diretorio}/{arquivo}\", engine=\"pyarrow\", index=False)\n",
    "\n",
    "# Execucoes posteriores, utiliza o arquivo salvo\n",
    "df_modalidades = pd.read_parquet(f\"{diretorio}/{arquivo}\", engine=\"fastparquet\")\n",
    "\n",
    "# Exibindo as primeiras linhas\n",
    "df_modalidades.head(100)"
   ]
  },
  {
   "cell_type": "code",
   "execution_count": null,
   "id": "714b2ebf-994e-4c5c-b64e-04342b1d7e11",
   "metadata": {},
   "outputs": [],
   "source": [
    "df_modalidades.shape"
   ]
  },
  {
   "cell_type": "code",
   "execution_count": null,
   "id": "d3db07dd-c190-4ea3-9f36-93781d8142f1",
   "metadata": {},
   "outputs": [],
   "source": [
    "# Incluir no dataframe de modalidade a 9999 e 9997\n",
    "nova_linha = {'codigo': 9999, 'descricao': 'Pregão - Registro de Preço'.upper(), '_links': None}\n",
    "df_modalidades = pd.concat([df_modalidades, pd.DataFrame([nova_linha])], ignore_index=True)\n",
    "\n",
    "nova_linha = {'codigo': 9997, 'descricao': 'Concorrência - Registro de Preço'.upper(), '_links': None}\n",
    "df_modalidades = pd.concat([df_modalidades, pd.DataFrame([nova_linha])], ignore_index=True)\n",
    "\n",
    "# Exibindo as linhas para verificar\n",
    "df_modalidades.head(100)"
   ]
  },
  {
   "cell_type": "code",
   "execution_count": null,
   "id": "092a5a7a-9090-4a49-a430-b21a7eff12be",
   "metadata": {},
   "outputs": [],
   "source": [
    "df_modalidades_carga = df_modalidades[['codigo', 'descricao' ]]\n",
    "# df_modalidades_carga = df_modalidades_carga.astype(str).apply(lambda x: x.str.encode('utf-8', 'ignore').str.decode('utf-8'))\n",
    "# df_modalidades_carga['descricao'] = df_modalidades_carga['descricao'].str.normalize('NFKD').str.encode('ascii', 'ignore').str.decode('utf-8')\n",
    "\n",
    "df_modalidades_carga.head(100)"
   ]
  },
  {
   "cell_type": "code",
   "execution_count": null,
   "id": "8bb73805-3c03-4182-98b7-c1ef9e0d4c1d",
   "metadata": {},
   "outputs": [],
   "source": [
    "# Insere dados de modalidade\n",
    "resultado = inserir_dados_postgresql(df_modalidades_carga, \"modalidade\", DB_HOST, DB_PORT, DB_NAME, DB_USER, DB_PASS, excluir_antes=True)\n",
    "\n",
    "# Exibindo o resultado\n",
    "print(resultado)"
   ]
  },
  {
   "cell_type": "markdown",
   "id": "0f167320-b830-4a7a-866a-127cb08dd79b",
   "metadata": {},
   "source": [
    "### 3.3) ETL UF"
   ]
  },
  {
   "cell_type": "code",
   "execution_count": null,
   "id": "1be40287-d297-4b87-b5aa-aa864e97f5eb",
   "metadata": {},
   "outputs": [],
   "source": [
    "import pandas as pd\n",
    "\n",
    "# Lista de estados do Brasil\n",
    "estados = [\n",
    "    (\"AC\", \"Acre\"), (\"AL\", \"Alagoas\"), (\"AP\", \"Amapá\"), (\"AM\", \"Amazonas\"),\n",
    "    (\"BA\", \"Bahia\"), (\"CE\", \"Ceará\"), (\"DF\", \"Distrito Federal\"), (\"ES\", \"Espírito Santo\"),\n",
    "    (\"GO\", \"Goiás\"), (\"MA\", \"Maranhão\"), (\"MT\", \"Mato Grosso\"), (\"MS\", \"Mato Grosso do Sul\"),\n",
    "    (\"MG\", \"Minas Gerais\"), (\"PA\", \"Pará\"), (\"PB\", \"Paraíba\"), (\"PR\", \"Paraná\"),\n",
    "    (\"PE\", \"Pernambuco\"), (\"PI\", \"Piauí\"), (\"RJ\", \"Rio de Janeiro\"), (\"RN\", \"Rio Grande do Norte\"),\n",
    "    (\"RS\", \"Rio Grande do Sul\"), (\"RO\", \"Rondônia\"), (\"RR\", \"Roraima\"), (\"SC\", \"Santa Catarina\"),\n",
    "    (\"SP\", \"São Paulo\"), (\"SE\", \"Sergipe\"), (\"TO\", \"Tocantins\"), (\"-3\", \"Inválido\")\n",
    "]\n",
    "\n",
    "# Criar o DataFrame\n",
    "df_estados = pd.DataFrame(estados, columns=[\"sigla\", \"descricao\"])\n",
    "\n",
    "# Exibir o DataFrame\n",
    "df_estados.head()\n"
   ]
  },
  {
   "cell_type": "code",
   "execution_count": null,
   "id": "ae9d32f0-eb08-4860-a0b2-6fa61b900569",
   "metadata": {},
   "outputs": [],
   "source": [
    "# Insere dados de modalidade\n",
    "resultado = inserir_dados_postgresql(df_estados, \"uf\", DB_HOST, DB_PORT, DB_NAME, DB_USER, DB_PASS, excluir_antes=True)\n",
    "\n",
    "# Exibindo o resultado\n",
    "print(resultado)"
   ]
  },
  {
   "cell_type": "markdown",
   "id": "9350dd9c-2549-4f08-ba05-3441146e9b83",
   "metadata": {},
   "source": [
    "### 3.4) ETL MUNICÍPIO"
   ]
  },
  {
   "cell_type": "code",
   "execution_count": null,
   "id": "0f07fc67-f1fb-4ccd-a097-1b14756d4b9e",
   "metadata": {},
   "outputs": [],
   "source": [
    "df_licitacoes = processar_diretorio(diretorio, \"Licitação\")\n",
    "df_licitacoes.head()"
   ]
  },
  {
   "cell_type": "code",
   "execution_count": null,
   "id": "6359bd5a-78ae-4924-96ec-9ae7a996bd45",
   "metadata": {},
   "outputs": [],
   "source": [
    "df_licitacoes.columns"
   ]
  },
  {
   "cell_type": "code",
   "execution_count": null,
   "id": "6f4885d8-ed93-4696-8f12-ff8e5185ca3f",
   "metadata": {},
   "outputs": [],
   "source": [
    "df_licitacoes = df_licitacoes.rename(columns={'Número Licitação': 'numero', \n",
    "                                              'Código UG': 'codigo_ug',\n",
    "                                              'Nome UG': 'nome_ug',\n",
    "                                              'Código Modalidade Compra': 'modalidade_codigo',\n",
    "                                              'Modalidade Compra': 'modalidade_desc',\n",
    "                                              'Número Processo': 'num_processo',\n",
    "                                              'Objeto':'objeto',\n",
    "                                              'Situação Licitação': 'situacao',\n",
    "                                              'Código Órgão Superior': 'orgao_codigo_sup',\n",
    "                                              'Nome Órgão Superior': 'orgao_nome_sup',\n",
    "                                              'Código Órgão': 'orgao_codigo',\n",
    "                                              'Nome Órgão': 'orgao_nome', \n",
    "                                              'UF': 'uf',\n",
    "                                              'Município': 'municipio',\n",
    "                                              'Data Resultado Compra': 'data_compra',\n",
    "                                              'Data Abertura': 'data_abertura',\n",
    "                                              'Valor Licitação': 'valor'})\n",
    "\n",
    "\n",
    "# Criar uma nova coluna concatenada\n",
    "df_licitacoes[\"chave_unica\"] = (\n",
    "    df_licitacoes[\"numero\"].astype(str) + \"_\" +\n",
    "    df_licitacoes[\"codigo_ug\"].astype(str) + \"_\" +\n",
    "    df_licitacoes[\"modalidade_codigo\"].astype(str) + \"_\" +\n",
    "    df_licitacoes[\"ano\"].astype(str) + \"_\" +\n",
    "    df_licitacoes[\"mes\"].astype(str).str.zfill(2)\n",
    ")\n",
    "\n",
    "df_licitacoes.head()"
   ]
  },
  {
   "cell_type": "code",
   "execution_count": null,
   "id": "5629b407-7c20-4a94-8020-aa53c213d340",
   "metadata": {},
   "outputs": [],
   "source": [
    "df_municipios = df_licitacoes[['uf', 'municipio']].copy()\n",
    "df_municipios.rename(columns={\"uf\": \"uf_sigla\", \"municipio\": \"descricao\"}, inplace=True)\n",
    "\n",
    "df_municipios.head()\n"
   ]
  },
  {
   "cell_type": "code",
   "execution_count": null,
   "id": "7a66521a-3050-40b7-a414-87fe669f549d",
   "metadata": {},
   "outputs": [],
   "source": [
    "# Insere dados\n",
    "resultado = inserir_dados_postgresql(df_municipios, \"municipio\", DB_HOST, DB_PORT, DB_NAME, DB_USER, DB_PASS, excluir_antes=True)\n",
    "\n",
    "# Exibindo o resultado\n",
    "print(resultado)"
   ]
  },
  {
   "cell_type": "code",
   "execution_count": null,
   "id": "8e9a2c09-91c4-4b6b-93e6-29a6ef2c4ac8",
   "metadata": {},
   "outputs": [],
   "source": [
    "# Chamar a função para carregar a tabela do PostgreSQL\n",
    "df_municipios_postgree = ler_tabela_postgresql(\"municipio\", DB_HOST, DB_PORT, DB_NAME, DB_USER, DB_PASS)\n",
    "\n",
    "# Exibir as 5 primeiras linhas\n",
    "df_municipios_postgree.head()"
   ]
  },
  {
   "cell_type": "markdown",
   "id": "f6e56f88-c890-4384-b005-ef7fe07dd8ca",
   "metadata": {},
   "source": [
    "### 3.5) ETL LICITACAO"
   ]
  },
  {
   "cell_type": "code",
   "execution_count": null,
   "id": "7547aa99-86b2-47e8-b822-f1b623c78205",
   "metadata": {},
   "outputs": [],
   "source": [
    "# Fazer o merge\n",
    "df_licitacoes = df_licitacoes.merge(\n",
    "    df_municipios_postgree[[\"id\", \"uf_sigla\", \"descricao\"]],  # Apenas colunas necessárias\n",
    "    left_on=[\"uf\", \"municipio\"],  # Colunas para correspondência\n",
    "    right_on=[\"uf_sigla\", \"descricao\"],\n",
    "    how=\"left\"  # Mantém todas as linhas de df_licitacoes_carga\n",
    ")\n",
    "\n",
    "# Renomear a coluna 'id' para 'municipio_id'\n",
    "df_licitacoes.rename(columns={\"id\": \"municipio_id\"}, inplace=True)\n",
    "\n",
    "# Exibir os primeiros registros\n",
    "df_licitacoes.head(5)"
   ]
  },
  {
   "cell_type": "code",
   "execution_count": null,
   "id": "d7eec8d7-d1a2-4303-aac5-a8f454ff05d7",
   "metadata": {},
   "outputs": [],
   "source": [
    "# Criar uma cópia do DataFrame apenas com as colunas relevantes\n",
    "df_licitacoes_carga = df_licitacoes[\n",
    "    [\n",
    "        \"numero\",\n",
    "        \"codigo_ug\",\n",
    "        \"modalidade_codigo\",\n",
    "        \"num_processo\",\n",
    "        \"objeto\",\n",
    "        \"situacao\",\n",
    "        \"orgao_codigo\",\n",
    "        \"municipio_id\",\n",
    "        \"data_compra\",\n",
    "        \"data_abertura\",\n",
    "        \"valor\",\n",
    "        \"ano\",\n",
    "        \"mes\",\n",
    "        \"chave_unica\"\n",
    "    ]\n",
    "].copy()\n",
    "\n",
    "# Substituir valores inválidos ('None', 'nan', np.nan, '') por None (NULL)\n",
    "df_licitacoes_carga.replace({\"None\": None, \"nan\": None, np.nan: None, \"\": None}, inplace=True)\n",
    "\n",
    "# Converter colunas de data para o formato correto ('YYYY-MM-DD') SEM '00:00:00'\n",
    "df_licitacoes_carga[\"data_compra\"] = pd.to_datetime(\n",
    "    df_licitacoes_carga[\"data_compra\"], format=\"%d/%m/%Y\", errors=\"coerce\"\n",
    ").dt.date\n",
    "\n",
    "df_licitacoes_carga[\"data_abertura\"] = pd.to_datetime(\n",
    "    df_licitacoes_carga[\"data_abertura\"], format=\"%d/%m/%Y\", errors=\"coerce\"\n",
    ").dt.date\n",
    "\n",
    "# Garantir que os valores numéricos estejam no formato correto\n",
    "df_licitacoes_carga[\"valor\"] = (\n",
    "    df_licitacoes_carga[\"valor\"]\n",
    "    .astype(str)\n",
    "    .str.replace(\",\", \".\", regex=True)\n",
    "    .astype(float)\n",
    ")\n",
    "\n",
    "# Converter NaT para None antes da inserção no PostgreSQL\n",
    "# Converter colunas de data corretamente para evitar erro no PostgreSQL\n",
    "df_licitacoes_carga[\"data_compra\"] = df_licitacoes_carga[\"data_compra\"].apply(lambda x: x if pd.notna(x) else None)\n",
    "df_licitacoes_carga[\"data_abertura\"] = df_licitacoes_carga[\"data_abertura\"].apply(lambda x: x if pd.notna(x) else None)\n",
    "\n",
    "# Garantir que colunas de data sejam tratadas corretamente e passem None (NULL) no PostgreSQL\n",
    "df_licitacoes_carga[\"data_compra\"] = df_licitacoes_carga[\"data_compra\"].apply(lambda x: None if pd.isna(x) else x)\n",
    "df_licitacoes_carga[\"data_abertura\"] = df_licitacoes_carga[\"data_abertura\"].apply(lambda x: None if pd.isna(x) else x)\n",
    "\n",
    "\n",
    "# Conferir se os valores nulos foram corretamente ajustados\n",
    "print(df_licitacoes_carga[[\"data_compra\", \"data_abertura\", \"valor\"]].head(10))"
   ]
  },
  {
   "cell_type": "code",
   "execution_count": null,
   "id": "017bf3cb-9f53-46de-88f9-e41c67c6d335",
   "metadata": {},
   "outputs": [],
   "source": [
    "# Insere dados de licitacao\n",
    "resultado = inserir_dados_postgresql(df_licitacoes_carga, \"licitacao\", DB_HOST, DB_PORT, DB_NAME, DB_USER, DB_PASS, excluir_antes=True)\n",
    "\n",
    "# Exibindo o resultado\n",
    "print(resultado)"
   ]
  },
  {
   "cell_type": "code",
   "execution_count": null,
   "id": "6b341be2-1543-4425-a98c-0489adeee1f3",
   "metadata": {},
   "outputs": [],
   "source": [
    "# Chamar a função para carregar a tabela do PostgreSQL\n",
    "df_licitacoes_postgree = ler_tabela_postgresql(\"licitacao\", DB_HOST, DB_PORT, DB_NAME, DB_USER, DB_PASS)\n",
    "\n",
    "# Exibir as 5 primeiras linhas\n",
    "df_licitacoes_postgree.head()"
   ]
  },
  {
   "cell_type": "markdown",
   "id": "fdfac6ff-792a-46d1-a53a-60b84ef5a933",
   "metadata": {},
   "source": [
    "### 3.5) ETL CNPJ"
   ]
  },
  {
   "cell_type": "code",
   "execution_count": null,
   "id": "8e20af22-cebd-41c5-84c6-4370af1ab7bb",
   "metadata": {},
   "outputs": [],
   "source": [
    "df_participantes = processar_diretorio(diretorio, \"ParticipantesLicitação\")\n",
    "df_participantes.head()"
   ]
  },
  {
   "cell_type": "code",
   "execution_count": null,
   "id": "571591ca-2ed6-4e3b-8784-be60bfe62a8a",
   "metadata": {},
   "outputs": [],
   "source": [
    "df_participantes.columns"
   ]
  },
  {
   "cell_type": "code",
   "execution_count": null,
   "id": "4bc28610-3576-49ba-9f1f-b825a1d47ed8",
   "metadata": {},
   "outputs": [],
   "source": [
    "df_participantes = df_participantes.rename(columns={'Número Licitação': 'numero', \n",
    "                                              'Código UG': 'codigo_ug',\n",
    "                                              'Nome UG': 'nome_ug',\n",
    "                                              'Código Modalidade Compra': 'modalidade_codigo',\n",
    "                                              'Modalidade Compra': 'modalidade_desc',\n",
    "                                              'Número Processo': 'num_processo',\n",
    "                                              'Código Órgão': 'orgao_codigo',\n",
    "                                              'Nome Órgão': 'orgao_nome', \n",
    "                                              'Código Item Compra': 'item_codigo',\n",
    "                                              'Descrição Item Compra': 'item_descricao',\n",
    "                                              'Código Participante': 'cnpj_codigo',\n",
    "                                              'Nome Participante': 'cnpj_nome',\n",
    "                                              'Flag Vencedor': 'vencedor_flag'})\n",
    "\n",
    "df_participantes.head()"
   ]
  },
  {
   "cell_type": "code",
   "execution_count": null,
   "id": "8c58789c-d8ee-470c-923d-cc09dc4c9362",
   "metadata": {},
   "outputs": [],
   "source": [
    "df_itens_licitacao = processar_diretorio(diretorio, \"ItemLicitação\")\n",
    "df_itens_licitacao.head()"
   ]
  },
  {
   "cell_type": "code",
   "execution_count": null,
   "id": "750edf4b-853c-4d98-883f-89a184e18343",
   "metadata": {},
   "outputs": [],
   "source": [
    "df_itens_licitacao.columns"
   ]
  },
  {
   "cell_type": "code",
   "execution_count": null,
   "id": "c1a5f1cc-67d1-4943-8961-67761813ad45",
   "metadata": {},
   "outputs": [],
   "source": [
    "df_itens_licitacao = df_itens_licitacao.rename(columns={'Número Licitação': 'numero', \n",
    "                                              'Código UG': 'codigo_ug',\n",
    "                                              'Nome UG': 'nome_ug',\n",
    "                                              'Código Modalidade Compra': 'modalidade_codigo',\n",
    "                                              'Modalidade Compra': 'modalidade_desc',\n",
    "                                              'Número Processo': 'num_processo',\n",
    "                                              'Código Órgão': 'orgao_codigo',\n",
    "                                              'Nome Órgão': 'orgao_nome', \n",
    "                                              'Código Item Compra': 'item_compra_codigo',\n",
    "                                              'Descrição': 'item_compra_descricao',\n",
    "                                              'Quantidade Item': 'item_compra_qtde',\n",
    "                                              'Valor Item': 'item_compra_valor',\n",
    "                                              'Código Vencedor': 'vencedor_codigo', \n",
    "                                              'Nome Vencedor': 'vencedor_nome'})\n",
    "\n",
    "\n",
    "df_itens_licitacao.head()"
   ]
  },
  {
   "cell_type": "code",
   "execution_count": null,
   "id": "b6823d59-a719-4f6f-b216-252234b7bd70",
   "metadata": {},
   "outputs": [],
   "source": [
    "# Criar um novo DataFrame apenas com as colunas relevantes de cada DataFrame\n",
    "df_participantes_selected = df_participantes[[\"cnpj_codigo\", \"cnpj_nome\"]].copy()\n",
    "df_itens_licitacao_selected = df_itens_licitacao[[\"vencedor_codigo\", \"vencedor_nome\"]].copy()\n",
    "\n",
    "# Concatenar os DataFrames, mantendo as colunas distintas\n",
    "df_consolidado = pd.concat([\n",
    "    df_participantes_selected.rename(columns={\"cnpj_codigo\": \"codigo\", \"cnpj_nome\": \"nome\"}),\n",
    "    df_itens_licitacao_selected.rename(columns={\"vencedor_codigo\": \"codigo\", \"vencedor_nome\": \"nome\"})\n",
    "], ignore_index=True)\n",
    "\n",
    "# Remover duplicatas baseando-se nas colunas 'codigo' e 'nome'\n",
    "df_cpf = df_consolidado.drop_duplicates(subset=[\"codigo\", \"nome\"])\n",
    "\n",
    "# Exibir o DataFrame final\n",
    "df_cpf.head()\n"
   ]
  },
  {
   "cell_type": "code",
   "execution_count": null,
   "id": "929be545-258a-4ad1-bb62-68ad1e760db2",
   "metadata": {},
   "outputs": [],
   "source": [
    "df_cpf.shape"
   ]
  },
  {
   "cell_type": "code",
   "execution_count": null,
   "id": "f2db4cba-5580-4ca8-afba-fb0c1dd2899f",
   "metadata": {},
   "outputs": [],
   "source": [
    "df_duplicados = df_cpf[df_cpf.duplicated(subset=['codigo'], keep=False)]\n",
    "df_duplicados"
   ]
  },
  {
   "cell_type": "code",
   "execution_count": null,
   "id": "7feacee3-9bd0-4393-ae77-28255799c0dd",
   "metadata": {},
   "outputs": [],
   "source": [
    "# Insere dados de cnpj\n",
    "resultado = inserir_dados_postgresql(df_cpf, \"cnpj\", DB_HOST, DB_PORT, DB_NAME, DB_USER, DB_PASS, excluir_antes=True)\n",
    "\n",
    "# Exibindo o resultado\n",
    "print(resultado)"
   ]
  },
  {
   "cell_type": "markdown",
   "id": "25c9886e-a65c-4a6e-a179-e4aaeb8fe9f9",
   "metadata": {},
   "source": [
    "### 3.6) ETL ITEM"
   ]
  },
  {
   "cell_type": "code",
   "execution_count": null,
   "id": "f6224097-e3b9-4020-a468-5ba432e4e0b5",
   "metadata": {},
   "outputs": [],
   "source": [
    "df_itens_licitacao = processar_diretorio(diretorio, \"ItemLicitação\")\n",
    "df_itens_licitacao.head()"
   ]
  },
  {
   "cell_type": "code",
   "execution_count": null,
   "id": "50051888-cfe7-4bdb-affb-0eaecf968649",
   "metadata": {},
   "outputs": [],
   "source": [
    "df_itens_licitacao = df_itens_licitacao.rename(columns={'Número Licitação': 'numero', \n",
    "                                              'Código UG': 'codigo_ug',\n",
    "                                              'Nome UG': 'nome_ug',\n",
    "                                              'Código Modalidade Compra': 'modalidade_codigo',\n",
    "                                              'Modalidade Compra': 'modalidade_desc',\n",
    "                                              'Número Processo': 'num_processo',\n",
    "                                              'Objeto':'objeto',\n",
    "                                              'Situação Licitação': 'situacao',\n",
    "                                              'Código Órgão Superior': 'orgao_codigo_sup',\n",
    "                                              'Nome Órgão Superior': 'orgao_nome_sup',\n",
    "                                              'Código Órgão': 'orgao_codigo',\n",
    "                                              'Nome Órgão': 'orgao_nome', \n",
    "                                              'Código Item Compra': 'item_codigo',\n",
    "                                              'Descrição': 'item_descricao',\n",
    "                                              'Quantidade Item': 'item_qtde',\n",
    "                                              'Valor Item': 'item_valor',\n",
    "                                              'Código Vencedor': 'vencedor_cnpj',\n",
    "                                              'Nome Vencedor': 'vencedor_nome',\n",
    "                                              'UF': 'uf',\n",
    "                                              'Município': 'municipio',\n",
    "                                              'Data Resultado Compra': 'data_compra',\n",
    "                                              'Data Abertura': 'data_abertura',\n",
    "                                              'Valor Licitação': 'valor'})\n",
    "\n",
    "df_itens_licitacao.head()"
   ]
  },
  {
   "cell_type": "code",
   "execution_count": null,
   "id": "3ec3f075-baa2-4d5c-a932-d8b200740ab1",
   "metadata": {},
   "outputs": [],
   "source": [
    "df_itens_licitacao['item_codigo'] = df_itens_licitacao.apply(lambda row: (\n",
    "                        f\"{str(row['codigo_ug']).zfill(6)}\"\n",
    "                        f\"{str(row['modalidade_codigo']).zfill(2)}\"\n",
    "                        f\"{str(row['numero']).zfill(5)}\"\n",
    "                        f\"{str(row['ano']).zfill(4)}\"\n",
    "                        f\"99999\"\n",
    "                    ) if pd.isnull(row['item_codigo']) else row['item_codigo'], axis=1)"
   ]
  },
  {
   "cell_type": "code",
   "execution_count": null,
   "id": "ebe1b339-fcc5-4f55-9b27-c25b7714da86",
   "metadata": {},
   "outputs": [],
   "source": [
    "df_itens_licitacao.head()"
   ]
  },
  {
   "cell_type": "code",
   "execution_count": null,
   "id": "94c779de-58ad-4a8c-89ae-fc8bffbfeb39",
   "metadata": {},
   "outputs": [],
   "source": [
    "# Criar uma nova coluna concatenada\n",
    "df_itens_licitacao[\"chave_unica\"] = (\n",
    "    df_itens_licitacao[\"numero\"].astype(str) + \"_\" +\n",
    "    df_itens_licitacao[\"codigo_ug\"].astype(str) + \"_\" +\n",
    "    df_itens_licitacao[\"modalidade_codigo\"].astype(str) + \"_\" +\n",
    "    df_itens_licitacao[\"ano\"].astype(str) + \"_\" +\n",
    "    df_itens_licitacao[\"mes\"].astype(str)\n",
    ")\n",
    "\n",
    "# Exibir o DataFrame atualizado\n",
    "df_itens_licitacao.head()"
   ]
  },
  {
   "cell_type": "code",
   "execution_count": null,
   "id": "9550699d-faec-4e18-ab17-ff27cfe032e8",
   "metadata": {},
   "outputs": [],
   "source": [
    "#  Fazer o merge para trazer 'id' como 'licitacao_id' para df_participantes\n",
    "df_itens_licitacao = df_itens_licitacao.merge(\n",
    "    df_licitacoes_postgree[[\"id\", \"chave_unica\"]],  # Apenas colunas necessárias\n",
    "    on=\"chave_unica\",  # Coluna para correspondência\n",
    "    how=\"left\"  # Mantém todas as linhas de df_participantes\n",
    ")\n",
    "\n",
    "# Renomear a coluna 'id' para 'licitacao_id'\n",
    "df_itens_licitacao.rename(columns={\"id\": \"licitacao_id\"}, inplace=True)\n",
    "\n",
    "# Exibir o DataFrame atualizado\n",
    "df_itens_licitacao.head()"
   ]
  },
  {
   "cell_type": "code",
   "execution_count": null,
   "id": "3d95fd5a-d85b-413e-9c31-efa7e77d90c3",
   "metadata": {},
   "outputs": [],
   "source": [
    "df_itens_licitacao['item_valor'] = df_itens_licitacao['item_valor'].astype(str).str.replace(',', '.').astype(float)\n"
   ]
  },
  {
   "cell_type": "code",
   "execution_count": null,
   "id": "cd652ef6-031f-4438-bac5-545ef6d1c406",
   "metadata": {},
   "outputs": [],
   "source": [
    "df_itens_licitacao_carga = df_itens_licitacao[['licitacao_id',\n",
    "                                               'item_codigo',\n",
    "                                               'item_descricao',\n",
    "                                               'item_qtde',\n",
    "                                               'item_valor',\n",
    "                                               'vencedor_cnpj']].copy()"
   ]
  },
  {
   "cell_type": "code",
   "execution_count": null,
   "id": "7f350331-8068-403b-b081-96746b510242",
   "metadata": {},
   "outputs": [],
   "source": [
    "# Insere dados de cnpj\n",
    "resultado = inserir_dados_postgresql(df_itens_licitacao_carga, \"item\", DB_HOST, DB_PORT, DB_NAME, DB_USER, DB_PASS, excluir_antes=True)\n",
    "\n",
    "# Exibindo o resultado\n",
    "print(resultado)"
   ]
  },
  {
   "cell_type": "code",
   "execution_count": null,
   "id": "3d1508f3-528c-4b7a-9c0f-9c71a74ed8bc",
   "metadata": {},
   "outputs": [],
   "source": [
    "# Chamar a função para carregar a tabela do PostgreSQL\n",
    "df_itens_licitacao_postgree = ler_tabela_postgresql(\"item\", DB_HOST, DB_PORT, DB_NAME, DB_USER, DB_PASS)\n",
    "\n",
    "# Exibir as 5 primeiras linhas\n",
    "df_itens_licitacao_postgree.head()"
   ]
  },
  {
   "cell_type": "markdown",
   "id": "23fb110d-ad9c-4920-839a-f93b1d42dad2",
   "metadata": {},
   "source": [
    "### 3.6) ETL PARTICIPANTE"
   ]
  },
  {
   "cell_type": "code",
   "execution_count": null,
   "id": "f002d3c8-9c19-4f40-8b23-bf4511cc98f8",
   "metadata": {},
   "outputs": [],
   "source": [
    "df_participantes.head()"
   ]
  },
  {
   "cell_type": "code",
   "execution_count": null,
   "id": "6817e605-ff3f-44e2-9307-ba94a7512e11",
   "metadata": {},
   "outputs": [],
   "source": [
    "df_participantes['item_codigo'] = df_participantes.apply(lambda row: (\n",
    "    f\"{str(row['codigo_ug']).zfill(6)}\"\n",
    "    f\"{str(row['modalidade_codigo']).zfill(2)}\"\n",
    "    f\"{str(row['numero']).zfill(5)}\"\n",
    "    f\"{str(row['ano']).zfill(4)}\"\n",
    "    f\"99999\"\n",
    ") if pd.isnull(row['item_codigo']) or len(str(row['item_codigo'])) != 22 else row['item_codigo'], axis=1)\n"
   ]
  },
  {
   "cell_type": "code",
   "execution_count": null,
   "id": "5b7a8227-6e09-4c51-9fd9-0c1efd29459c",
   "metadata": {},
   "outputs": [],
   "source": [
    "df_participantes.head()"
   ]
  },
  {
   "cell_type": "code",
   "execution_count": null,
   "id": "ff0fe039-bca7-4c74-8918-af1331c3128f",
   "metadata": {},
   "outputs": [],
   "source": [
    "#  Fazer o merge \n",
    "df_participantes = df_participantes.merge(\n",
    "    df_itens_licitacao_postgree[[\"id\", \"item_codigo\"]],  # Apenas colunas necessárias\n",
    "    on=\"item_codigo\",  # Coluna para correspondência\n",
    "    how=\"left\"  # Mantém todas as linhas de df_participantes\n",
    ")\n",
    "\n",
    "# Renomear a coluna 'id' para 'item_id'\n",
    "df_participantes.rename(columns={\"id\": \"item_id\"}, inplace=True)\n",
    "\n",
    "# Exibir o DataFrame atualizado\n",
    "df_participantes.head(5)"
   ]
  },
  {
   "cell_type": "code",
   "execution_count": null,
   "id": "6970ea38-79df-4faf-bfca-c5bf4a1e6582",
   "metadata": {},
   "outputs": [],
   "source": [
    "df_participantes['vencedor_flag'] = df_participantes['vencedor_flag'].astype(str).str[0]\n",
    "df_participantes_carga = df_participantes[['item_id', 'cnpj_codigo', 'vencedor_flag' ]]"
   ]
  },
  {
   "cell_type": "code",
   "execution_count": null,
   "id": "ea2bb86d-6421-42d8-8502-6671ec1e34ca",
   "metadata": {},
   "outputs": [],
   "source": [
    "df_participantes_carga.head()"
   ]
  },
  {
   "cell_type": "code",
   "execution_count": null,
   "id": "ca3289d8-145d-4586-b6b5-12d1fa2147b1",
   "metadata": {},
   "outputs": [],
   "source": [
    "# Insere dados de cnpj\n",
    "resultado = inserir_dados_postgresql(df_participantes_carga, \"participante\", DB_HOST, DB_PORT, DB_NAME, DB_USER, DB_PASS, excluir_antes=True)\n",
    "\n",
    "# Exibindo o resultado\n",
    "print(resultado)"
   ]
  },
  {
   "cell_type": "code",
   "execution_count": null,
   "id": "3ec835be-3195-44e6-a8fa-d02b511f34df",
   "metadata": {},
   "outputs": [],
   "source": []
  }
 ],
 "metadata": {
  "kernelspec": {
   "display_name": "Python 3 (ipykernel)",
   "language": "python",
   "name": "python3"
  },
  "language_info": {
   "codemirror_mode": {
    "name": "ipython",
    "version": 3
   },
   "file_extension": ".py",
   "mimetype": "text/x-python",
   "name": "python",
   "nbconvert_exporter": "python",
   "pygments_lexer": "ipython3",
   "version": "3.11.11"
  }
 },
 "nbformat": 4,
 "nbformat_minor": 5
}
